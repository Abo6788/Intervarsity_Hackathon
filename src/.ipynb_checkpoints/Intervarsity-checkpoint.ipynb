{
 "cells": [
  {
   "cell_type": "code",
   "execution_count": null,
   "id": "cb92539b-921c-42bb-95c8-56c3a6604cef",
   "metadata": {},
   "outputs": [],
   "source": [
    "import pandas as pd\n",
    "\n",
    "student_assessments = pd.read_csv(r\"C:\\Users\\Abongile\\Documents\\Intervarsity_Hackathon\\Intervarsity_Hackathon\\assets\\studentAssessment.csv\")\n",
    "\n",
    "student_registration = pd.read_csv(\n",
    "    r\"C:\\Users\\Abongile\\Documents\\Intervarsity_Hackathon\\Intervarsity_Hackathon\\assets\\StudentRegistration.csv\"\n",
    ")\n",
    "student_assessments.head()"
   ]
  }
 ],
 "metadata": {
  "kernelspec": {
   "display_name": "Python 3 (ipykernel)",
   "language": "python",
   "name": "python3"
  },
  "language_info": {
   "codemirror_mode": {
    "name": "ipython",
    "version": 3
   },
   "file_extension": ".py",
   "mimetype": "text/x-python",
   "name": "python",
   "nbconvert_exporter": "python",
   "pygments_lexer": "ipython3",
   "version": "3.11.7"
  }
 },
 "nbformat": 4,
 "nbformat_minor": 5
}
